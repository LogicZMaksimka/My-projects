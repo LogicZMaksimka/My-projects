{
 "cells": [
  {
   "cell_type": "markdown",
   "metadata": {},
   "source": [
    "## Lab 2"
   ]
  },
  {
   "cell_type": "markdown",
   "metadata": {},
   "source": [
    "### Part 3. Poetry generation\n",
    "\n",
    "Let's try to generate some poetry using RNNs. \n",
    "\n",
    "You have several choices here: \n",
    "\n",
    "* The Shakespeare sonnets, file `sonnets.txt` available in the notebook directory.\n",
    "\n",
    "* Роман в стихах \"Евгений Онегин\" Александра Сергеевича Пушкина. В предобработанном виде доступен по [ссылке](https://github.com/attatrol/data_sources/blob/master/onegin.txt).\n",
    "\n",
    "* Some other text source, if it will be approved by the course staff.\n",
    "\n",
    "Text generation can be designed in several steps:\n",
    "    \n",
    "1. Data loading.\n",
    "2. Dictionary generation.\n",
    "3. Data preprocessing.\n",
    "4. Model (neural network) training.\n",
    "5. Text generation (model evaluation).\n"
   ]
  },
  {
   "cell_type": "code",
   "execution_count": 1,
   "metadata": {},
   "outputs": [],
   "source": [
    "import string\n",
    "import os"
   ]
  },
  {
   "cell_type": "markdown",
   "metadata": {},
   "source": [
    "### Data loading: Shakespeare"
   ]
  },
  {
   "cell_type": "markdown",
   "metadata": {},
   "source": [
    "Shakespeare sonnets are awailable at this [link](http://www.gutenberg.org/ebooks/1041?msg=welcome_stranger). In addition, they are stored in the same directory as this notebook (`sonnetes.txt`). Simple preprocessing is already done for you in the next cell: all technical info is dropped."
   ]
  },
  {
   "cell_type": "code",
   "execution_count": 2,
   "metadata": {},
   "outputs": [],
   "source": [
    "if not os.path.exists('sonnets.txt'):\n",
    "    !wget https://raw.githubusercontent.com/girafe-ai/ml-mipt/21f_basic/homeworks_basic/lab02_deep_learning/sonnets.txt\n",
    "\n",
    "with open('sonnets.txt', 'r') as iofile:\n",
    "    text = iofile.readlines()\n",
    "    \n",
    "TEXT_START = 45\n",
    "TEXT_END = -368\n",
    "text = text[TEXT_START : TEXT_END]\n",
    "assert len(text) == 2616"
   ]
  },
  {
   "cell_type": "markdown",
   "metadata": {},
   "source": [
    "In opposite to the in-class practice, this time we want to predict complex text. Let's reduce the complexity of the task and lowercase all the symbols.\n",
    "\n",
    "Now variable `text` is a list of strings. Join all the strings into one and lowercase it."
   ]
  },
  {
   "cell_type": "code",
   "execution_count": 3,
   "metadata": {},
   "outputs": [
    {
     "name": "stdout",
     "output_type": "stream",
     "text": [
      "OK!\n"
     ]
    }
   ],
   "source": [
    "text = \"\".join(text)\n",
    "text = text.lower()\n",
    "\n",
    "assert len(text) == 100225, 'Are you sure you have concatenated all the strings?'\n",
    "assert not any([x in set(text) for x in string.ascii_uppercase]), 'Uppercase letters are present'\n",
    "print('OK!')"
   ]
  },
  {
   "cell_type": "markdown",
   "metadata": {},
   "source": [
    "### Data loading: \"Евгений Онегин\"\n"
   ]
  },
  {
   "cell_type": "code",
   "execution_count": 4,
   "metadata": {},
   "outputs": [],
   "source": [
    "# !wget https://raw.githubusercontent.com/attatrol/data_sources/master/onegin.txt\n",
    "    \n",
    "# with open('onegin.txt', 'r') as iofile:\n",
    "#     text = iofile.readlines()\n",
    "    \n",
    "# text = [x.replace('\\t\\t', '') for x in text]"
   ]
  },
  {
   "cell_type": "markdown",
   "metadata": {},
   "source": [
    "In opposite to the in-class practice, this time we want to predict complex text. Let's reduce the complexity of the task and lowercase all the symbols.\n",
    "\n",
    "Now variable `text` is a list of strings. Join all the strings into one and lowercase it."
   ]
  },
  {
   "cell_type": "code",
   "execution_count": 5,
   "metadata": {},
   "outputs": [],
   "source": [
    "# text = \"\".join(text)\n",
    "# text = text.lower()"
   ]
  },
  {
   "cell_type": "markdown",
   "metadata": {},
   "source": [
    "Put all the characters, that you've seen in the text, into variable `tokens`."
   ]
  },
  {
   "cell_type": "code",
   "execution_count": 6,
   "metadata": {},
   "outputs": [],
   "source": [
    "tokens = sorted(set(text))"
   ]
  },
  {
   "cell_type": "markdown",
   "metadata": {},
   "source": [
    "Create dictionary `token_to_idx = {<char>: <index>}` and dictionary `idx_to_token = {<index>: <char>}`"
   ]
  },
  {
   "cell_type": "code",
   "execution_count": 7,
   "metadata": {},
   "outputs": [],
   "source": [
    "# dict <index>:<char>\n",
    "token_to_idx = dict(zip(tokens, range(len(tokens))))\n",
    "\n",
    "\n",
    "# dict <char>:<index>\n",
    "idx_to_token = dict(enumerate(tokens))"
   ]
  },
  {
   "cell_type": "markdown",
   "metadata": {},
   "source": [
    "*Comment: in this task we have only 38 different tokens, so let's use one-hot encoding.*"
   ]
  },
  {
   "cell_type": "markdown",
   "metadata": {},
   "source": [
    "### Building the model"
   ]
  },
  {
   "cell_type": "markdown",
   "metadata": {},
   "source": [
    "Now we want to build and train recurrent neural net which would be able to something similar to Shakespeare's poetry.\n",
    "\n",
    "Let's use vanilla RNN, similar to the one created during the lesson."
   ]
  },
  {
   "cell_type": "code",
   "execution_count": 8,
   "metadata": {},
   "outputs": [],
   "source": [
    "import torch, torch.nn as nn\n",
    "import torch.nn.functional as F\n",
    "from IPython.display import clear_output\n",
    "from random import sample\n",
    "import numpy as np\n",
    "import matplotlib.pyplot as plt\n",
    "%matplotlib inline\n"
   ]
  },
  {
   "cell_type": "code",
   "execution_count": 11,
   "metadata": {},
   "outputs": [],
   "source": [
    "def get_batches(text, batch_size, length):\n",
    "    '''\n",
    "    Returns matrix with size [batch_size, length]\n",
    "    Each line: random string in text splitted into chars and then converted into token indexes\n",
    "    '''\n",
    "    # Shuffle at the start of epoch\n",
    "    all_positions = np.arange(len(text) - length + 1)\n",
    "    np.random.shuffle(all_positions)\n",
    "        \n",
    "    for start_idx in range(0, len(all_positions), batch_size):\n",
    "        end_idx = start_idx + batch_size\n",
    "        \n",
    "        start_positions = all_positions[start_idx:end_idx]\n",
    "        end_positions = start_positions + length\n",
    "        \n",
    "        strings_idx = np.zeros((batch_size, length), dtype=int)\n",
    "        for i, (str_start, str_end) in enumerate(zip(start_positions, end_positions)):\n",
    "            string = text[str_start : str_end]\n",
    "            strings_idx[i] = [token_to_idx[c] for c in string]\n",
    "        yield strings_idx"
   ]
  },
  {
   "cell_type": "code",
   "execution_count": 12,
   "metadata": {},
   "outputs": [],
   "source": [
    "class CharRNNLoop(nn.Module):\n",
    "    def __init__(self, num_tokens, emb_size, rnn_num_units):\n",
    "        super(self.__class__, self).__init__()\n",
    "        self.emb = nn.Embedding(num_tokens, emb_size)\n",
    "        self.rnn = nn.RNN(emb_size, rnn_num_units, batch_first=True)\n",
    "        self.hid_to_logits = nn.Linear(rnn_num_units, num_tokens)\n",
    "        \n",
    "    def forward(self, x):\n",
    "        assert isinstance(x.data, torch.LongTensor)\n",
    "        h_seq, _ = self.rnn(self.emb(x))\n",
    "        next_logits = self.hid_to_logits(h_seq)\n",
    "        next_logp = F.log_softmax(next_logits, dim=-1)\n",
    "        return next_logp, next_logits"
   ]
  },
  {
   "cell_type": "markdown",
   "metadata": {},
   "source": [
    "Plot the loss function (axis X: number of epochs, axis Y: loss function)."
   ]
  },
  {
   "cell_type": "code",
   "execution_count": 13,
   "metadata": {},
   "outputs": [],
   "source": [
    "MAX_ITERATION = 100\n",
    "\n",
    "N_TOKENS = len(tokens)\n",
    "\n",
    "BATCH_SIZE = 100\n",
    "\n",
    "RNN_UNITS = 1000\n",
    "\n",
    "EMB_SIZE = 200\n",
    "\n",
    "def train_model(model, opt, max_iterations):\n",
    "    loss_history = []\n",
    "    for i, batch_idx in enumerate(get_batches(text, BATCH_SIZE, EMB_SIZE)):\n",
    "        if i >= max_iterations:\n",
    "            break\n",
    "\n",
    "        batch_idx = torch.LongTensor(batch_idx)\n",
    "        \n",
    "        \n",
    "        logp_seq, _ = model(batch_idx)\n",
    "\n",
    "        predictions_logp = logp_seq[:, :-1].reshape(-1, N_TOKENS)\n",
    "        actual_next_tokens = batch_idx[:, 1:].reshape(-1)\n",
    "\n",
    "        loss = F.nll_loss(predictions_logp, actual_next_tokens)\n",
    "\n",
    "        # train with backprop\n",
    "        loss.backward()\n",
    "        opt.step()\n",
    "        opt.zero_grad()\n",
    "\n",
    "        loss_history.append(loss.data.numpy())\n",
    "\n",
    "        clear_output(True)\n",
    "        plt.figure(figsize=(10, 8))\n",
    "        plt.title(\"Learning process loss history\")\n",
    "        plt.plot(loss_history)\n",
    "        plt.xlabel(\"iteration\")\n",
    "        plt.ylabel(\"loss\")\n",
    "        plt.show()\n",
    "\n",
    "    print(f'Current train loss: {loss_history[-1]}')"
   ]
  },
  {
   "cell_type": "code",
   "execution_count": 14,
   "metadata": {},
   "outputs": [
    {
     "data": {
      "image/png": "[encoded data removed]",
      "text/plain": [
       "<Figure size 720x576 with 1 Axes>"
      ]
     },
     "metadata": {
      "needs_background": "light"
     },
     "output_type": "display_data"
    },
    {
     "name": "stdout",
     "output_type": "stream",
     "text": [
      "Current train loss: 1.6455925703048706\n"
     ]
    }
   ],
   "source": [
    "rnn_model = CharRNNLoop(len(tokens), EMB_SIZE, RNN_UNITS)\n",
    "rnn_opt = torch.optim.Adam(rnn_model.parameters())\n",
    "\n",
    "train_model(rnn_model, rnn_opt, 100)"
   ]
  },
  {
   "cell_type": "markdown",
   "metadata": {},
   "source": []
  },
  {
   "cell_type": "code",
   "execution_count": 15,
   "metadata": {},
   "outputs": [],
   "source": [
    "def generate_sample(model, seed_phrase, max_length, temperature=1.0):\n",
    "    '''    \n",
    "    The function generates text given a phrase of length at least SEQ_LENGTH.\n",
    "    :param seed_phrase: prefix characters. The RNN is asked to continue the phrase\n",
    "    :param max_length: maximum output length, including seed_phrase\n",
    "    :param temperature: coefficient for sampling.  higher temperature produces more chaotic outputs, \n",
    "        smaller temperature converges to the single most likely output.\n",
    "        \n",
    "    This model waits logits (not probabilities/log-probabilities) of the next symbol.\n",
    "    '''\n",
    "    \n",
    "    x_sequence = [token_to_idx[token] for token in seed_phrase]\n",
    "    x_sequence = torch.tensor([x_sequence], dtype=torch.int64)\n",
    "    \n",
    "    \n",
    "    #feed the seed phrase, if any\n",
    "    for i in range(len(seed_phrase) - 1):\n",
    "        model(torch.tensor([[x_sequence[:, i]]], dtype=torch.int64))\n",
    "    \n",
    "    #start generating\n",
    "    for i in range(max_length - len(seed_phrase)):\n",
    "        _, out = model(x_sequence)\n",
    "        \n",
    "\n",
    "        p_next = F.softmax(out / temperature, dim=-1).data.numpy()[0, -1]\n",
    "        p_next = p_next.flatten()\n",
    "        \n",
    "        # sample next token and push it back into x_sequence\n",
    "        next_ix = np.random.choice(len(tokens), p=p_next)\n",
    "        next_ix = torch.tensor([[next_ix]], dtype=torch.int64)\n",
    "        \n",
    "\n",
    "        x_sequence = torch.cat([x_sequence, next_ix], dim=1)\n",
    "        \n",
    "    return ''.join([tokens[ix] for ix in x_sequence.data.numpy()[0]])"
   ]
  },
  {
   "cell_type": "code",
   "execution_count": 16,
   "metadata": {},
   "outputs": [
    {
     "name": "stdout",
     "output_type": "stream",
     "text": [
      "hellow thes thee the strend where the self the pare the sore in the start the sees the with the the heart the so the ser my love prowirg the is the so the single sun the self the stall the sweet in my see have the world the such such against the reast the so songed that in the stall the see the with the steres the so the still the world and the shall dost the to the steat the sone eyes and thee she the beauty doth the stranter the self be the self live the seef art the see the start the steet th\n"
     ]
    }
   ],
   "source": [
    "print(generate_sample(rnn_model, \"hellow\", 500, temperature=0.3))"
   ]
  },
  {
   "cell_type": "markdown",
   "metadata": {},
   "source": [
    "### More poetic model\n",
    "\n",
    "Let's use LSTM instead of vanilla RNN and compare the results."
   ]
  },
  {
   "cell_type": "markdown",
   "metadata": {},
   "source": [
    "Plot the loss function of the number of epochs. Does the final loss become better?"
   ]
  },
  {
   "cell_type": "code",
   "execution_count": 17,
   "metadata": {},
   "outputs": [],
   "source": [
    "class CharLSTMLoop(nn.Module):\n",
    "    def __init__(self, num_tokens, emb_size, rnn_num_units): # переделай начальные значения\n",
    "        super(self.__class__, self).__init__()\n",
    "        self.emb = nn.Embedding(num_tokens, emb_size)\n",
    "        self.rnn = nn.LSTM(emb_size, rnn_num_units, batch_first=True)\n",
    "        self.hid_to_logits = nn.Linear(rnn_num_units, num_tokens)\n",
    "        \n",
    "    def forward(self, x):\n",
    "        assert isinstance(x.data, torch.LongTensor)\n",
    "        h_seq, _ = self.rnn(self.emb(x))\n",
    "        next_logits = self.hid_to_logits(h_seq)\n",
    "        next_logp = F.log_softmax(next_logits, dim=-1)\n",
    "        return next_logp, next_logits"
   ]
  },
  {
   "cell_type": "code",
   "execution_count": 18,
   "metadata": {},
   "outputs": [
    {
     "data": {
      "image/png": "[encoded data removed]",
      "text/plain": [
       "<Figure size 720x576 with 1 Axes>"
      ]
     },
     "metadata": {
      "needs_background": "light"
     },
     "output_type": "display_data"
    },
    {
     "name": "stdout",
     "output_type": "stream",
     "text": [
      "Current train loss: 1.9634958505630493\n"
     ]
    }
   ],
   "source": [
    "lstm_model = CharLSTMLoop(len(tokens), EMB_SIZE, RNN_UNITS)\n",
    "opt = torch.optim.Adam(lstm_model.parameters())\n",
    "\n",
    "train_model(lstm_model, opt, 50)"
   ]
  },
  {
   "cell_type": "markdown",
   "metadata": {},
   "source": [
    "Generate text using the trained net with different `temperature` parameter: `[0.1, 0.2, 0.5, 1.0, 2.0]`.\n",
    "\n",
    "Evaluate the results visually, try to interpret them."
   ]
  },
  {
   "cell_type": "code",
   "execution_count": 19,
   "metadata": {},
   "outputs": [
    {
     "name": "stdout",
     "output_type": "stream",
     "text": [
      "Temprature = 0.1\n",
      "____________________________________________________________________________________________________\n",
      "hellow the the seare the seare the with the seare the seare the seart the seart the seare the the seart the the seare the seare the seart of the the me the the seare the seare the seart the the the seare the with the sould the the with the the seart of the with the will the the the seare the seart in the with the the seart the with the seare the the seare the seare the with the seare the the the seare the seare the seare the seare the seare thee the the seare the seare the seart the the with the\n",
      "____________________________________________________________________________________________________\n",
      "Temprature = 0.2\n",
      "____________________________________________________________________________________________________\n",
      "hellow the sore the so me the the with the thee the with the seart of the me the the beart the the me the the mare sour the erest in the there and the with the the and the my my thee and the seere and the hat with the with the with the som beart the beare the thee the wore the seart the seare the the seare the with in the will the the seare the seart of the the the my mand the thee the thee sheart the seast the me preare the the the the with the the wore the seere,\n",
      "  and the store and with the t\n",
      "____________________________________________________________________________________________________\n",
      "Temprature = 0.5\n",
      "____________________________________________________________________________________________________\n",
      "hellow, and on sill love is gane my love singr may stante the the peaptere sore,\n",
      "  the worture of distien,\n",
      "  sing theer and shat corse art that and thee the lover ther mals me fare,\n",
      "  for the i hande that my porde and in the searss my alles,\n",
      "  theans my and be but, and the i grath in tour my hise and where soul thee in though will in the breare\n",
      "  thou the wherringh the my will thee of thy in the what the thy with sath the love,\n",
      "  when thy spill and my still seare to that thee desert to mones for\n",
      "____________________________________________________________________________________________________\n",
      "Temprature = 1.0\n",
      "____________________________________________________________________________________________________\n",
      "hellow;\n",
      "   ald heflas, kor any loviis arofmase ray my willds,\n",
      "  norst meae; fibe:\n",
      "  and oresture elave,- fifot armay,\n",
      "  and n till mant bake:\n",
      "   fystele werece;\n",
      "  st whering thens, go fromave.\n",
      "  ling kwich seees my ge hoswlor grome\n",
      "  tor eall'denf is lowingr why sullveor buthtrith il ithe-,\n",
      "  mave yendentid lod st enofert toder my mare toou\n",
      "  ch sheore ndeer dor daner will thay, suss mre, the exivere fo teen\n",
      "  in to t mysbupe,\n",
      "   by fxtere,\n",
      "  loveay  hath sail,\n",
      "  o withye hend but ifsend glous h\n",
      "____________________________________________________________________________________________________\n",
      "Temprature = 2.0\n",
      "____________________________________________________________________________________________________\n",
      "hellow:ar kyeg.\n",
      " gx algcckklo to wqadh, s semst,-\n",
      "\n",
      "  imgino!dgurof cis;vig'styse nnwign\n",
      " bde'd\n",
      " yu\n",
      "- 'ep ewhic remdqin.:\n",
      "  \n",
      "\n",
      " na,\n",
      " i:;\n",
      "\n",
      "' -viu;fayg\n",
      "  d inkurher,\n",
      " cwthyun.\n",
      " whou n wac!h,-wvand.eas. whtadl, day swyoll sit trlyken-dltsroe.\n",
      "h m\n",
      "u\n",
      " \n",
      "r mr-li co!m?,\n",
      " l ivarees lluvep'chpfyometasut,yse'!,o rehtoty louls wrseroe.\n",
      "-:\n",
      "\n",
      "\n",
      "  a\n",
      ")\n",
      " z\n",
      "\n",
      "  tn vio; laiz\n",
      " buns,ig cilvoi\n",
      " e;at:\n",
      " zevas vn-fssir,s aryd\n",
      "!  an ssso-.':\n",
      "k jisoner,,\n",
      " j heersp, lane,\n",
      "! bice. \n",
      "r;ywomy digith tad's anke!\n",
      "\n",
      "  s sherwsemdighdt \n",
      "____________________________________________________________________________________________________\n"
     ]
    }
   ],
   "source": [
    "for temp in [0.1, 0.2, 0.5, 1.0, 2.0]:\n",
    "    print(f\"Temprature = {temp}\")\n",
    "    print(\"____________________________________________________________________________________________________\")\n",
    "    print(generate_sample(lstm_model, \"hellow\", 500, temperature=temp))\n",
    "    print(\"____________________________________________________________________________________________________\")"
   ]
  },
  {
   "cell_type": "markdown",
   "metadata": {},
   "source": [
    "### Saving and loading models"
   ]
  },
  {
   "cell_type": "markdown",
   "metadata": {},
   "source": [
    "Save the model to the disk, then load it and generate text. Examples are available [here](https://pytorch.org/tutorials/beginner/saving_loading_models.html])."
   ]
  },
  {
   "cell_type": "code",
   "execution_count": 21,
   "metadata": {},
   "outputs": [
    {
     "name": "stdout",
     "output_type": "stream",
     "text": [
      " thes heat in sall the io and seate, i thine thee and shat the ald my wore,\n",
      "  shy forenour thy lofe thou but the beatile mute wime routh wher the the thee with the preence he fare the withe beare, and frime wine ene the enest the indour that meser sulle the al the the sowend the swert beast of mease thour mast love by all seeld as mast be to selle but there may and the with weall the sull sheare in the thee the pare winter and the sook the sone sellves the sormy be and thee,\n",
      "  all here me will t\n"
     ]
    }
   ],
   "source": [
    "PATH = \"/home/maksim/Документы/МФТИ/5sem/machine_learning/lab02_deep_learning/model\"\n",
    "torch.save(lstm_model.state_dict(), PATH)\n",
    "\n",
    "load_model = CharLSTMLoop(len(tokens), EMB_SIZE, RNN_UNITS)\n",
    "load_model.load_state_dict(torch.load(PATH))\n",
    "\n",
    "print(generate_sample(load_model, \" \", 500, temperature=0.5))"
   ]
  },
  {
   "cell_type": "markdown",
   "metadata": {},
   "source": [
    "### References\n",
    "1. <a href='http://karpathy.github.io/2015/05/21/rnn-effectiveness/'> Andrew Karpathy blog post about RNN. </a> \n",
    "There are several examples of genration: Shakespeare texts, Latex formulas, Linux Sourse Code and children names.\n",
    "2. <a href='https://github.com/karpathy/char-rnn'> Repo with char-rnn code </a>\n",
    "3. Cool repo with PyTorch examples: [link](https://github.com/spro/practical-pytorch`)"
   ]
  }
 ],
 "metadata": {
  "anaconda-cloud": {},
  "kernelspec": {
   "display_name": "Python 3",
   "language": "python",
   "name": "python3"
  },
  "language_info": {
   "codemirror_mode": {
    "name": "ipython",
    "version": 3
   },
   "file_extension": ".py",
   "mimetype": "text/x-python",
   "name": "python",
   "nbconvert_exporter": "python",
   "pygments_lexer": "ipython3",
   "version": "3.7.3"
  }
 },
 "nbformat": 4,
 "nbformat_minor": 2
}
